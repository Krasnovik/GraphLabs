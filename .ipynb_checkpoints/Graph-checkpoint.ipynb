{
 "cells": [
  {
   "cell_type": "code",
   "execution_count": 4,
   "id": "bfca4905",
   "metadata": {},
   "outputs": [],
   "source": [
    "from Graph import Graph"
   ]
  },
  {
   "cell_type": "code",
   "execution_count": 2,
   "id": "2693cc76-d5ac-4239-b0f9-1c34a9ba7a23",
   "metadata": {},
   "outputs": [],
   "source": [
    "# поиск остовного дерева графа\n",
    "# Результатом является список рёбер графа, входящих в остовное дерево и суммарный вес дерева\n",
    "# крускала\n",
    "\n",
    "# Борувки\n",
    "\n",
    "def undirected_adjacency_matrix(adjacency_matrix):\n",
    "    # Получаем размерность матрицы\n",
    "    n = len(adjacency_matrix)\n",
    "    \n",
    "    # Создаем нулевую матрицу с размером n x n для соотнесенного графа\n",
    "    undirected_matrix = [[0] * n for _ in range(n)]\n",
    "    \n",
    "    # Заполняем соотнесенную матрицу на основе направленной\n",
    "    for i in range(n):\n",
    "        for j in range(i, n):\n",
    "            undirected_matrix[i][j] = adjacency_matrix[i][j] or adjacency_matrix[j][i]\n",
    "            undirected_matrix[j][i] = undirected_matrix[i][j]\n",
    "    \n",
    "    return undirected_matrix\n",
    "\n",
    "\n",
    "\n",
    "def find(parent, node):\n",
    "    if parent[node] == node:\n",
    "        return node\n",
    "    return find(parent, parent[node])\n",
    "\n",
    "def union(parent, rank, u, v):\n",
    "    root_u = find(parent, u)\n",
    "    root_v = find(parent, v)\n",
    "\n",
    "    if rank[root_u] < rank[root_v]:\n",
    "        parent[root_u] = root_v\n",
    "    elif rank[root_u] > rank[root_v]:\n",
    "        parent[root_v] = root_u\n",
    "    else:\n",
    "        parent[root_v] = root_u\n",
    "        rank[root_u] += 1\n",
    "\n",
    "def kruskal(graph):\n",
    "    num_vertices = len(graph)\n",
    "    edges = []\n",
    "\n",
    "    for i in range(num_vertices):\n",
    "        for j in range(i + 1, num_vertices):\n",
    "            if graph[i][j] != 0:\n",
    "                edges.append((i, j, graph[i][j]))\n",
    "\n",
    "    edges.sort(key=lambda x: x[2])\n",
    "    parent = list(range(num_vertices))\n",
    "    rank = [0] * num_vertices\n",
    "    mst = []\n",
    "    mst_weight = 0\n",
    "\n",
    "    for edge in edges:\n",
    "        u, v, weight = edge\n",
    "        if find(parent, u) != find(parent, v):\n",
    "            mst.append((u, v, weight))  # Включаем вес ребра в остовное дерево\n",
    "            mst_weight += weight\n",
    "            union(parent, rank, u, v)\n",
    "\n",
    "    return mst, mst_weight\n"
   ]
  },
  {
   "cell_type": "code",
   "execution_count": 6,
   "id": "5ed097a7-fea0-4ad7-bd43-6aa2cc7e04cb",
   "metadata": {},
   "outputs": [],
   "source": [
    "# Прима\n",
    "\n",
    "\n",
    "import heapq\n",
    "import numpy as np\n",
    "\n",
    "def matrix_to_adjacency_list(matrix):\n",
    "    graph = {}\n",
    "    num_nodes = len(matrix)\n",
    "    \n",
    "    for i in range(num_nodes):\n",
    "        graph[i] = []\n",
    "        for j in range(num_nodes):\n",
    "            if matrix[i][j] != 0:\n",
    "                graph[i].append((j, matrix[i][j]))\n",
    "    \n",
    "    return graph\n",
    "\n",
    "def prim(adj_matrix):\n",
    "    matrix = np.array(adj_matrix)\n",
    "    graph = matrix_to_adjacency_list(matrix)\n",
    "    \n",
    "    minimum_spanning_tree = []\n",
    "    num_nodes = len(matrix)\n",
    "    visited = set()\n",
    "    \n",
    "    # Выбираем начальную вершину (можно выбрать любую)\n",
    "    start_node = 0\n",
    "    visited.add(start_node)\n",
    "    \n",
    "    # Создаем приоритетную очередь для хранения ребер с их весами\n",
    "    edge_heap = [(weight, start_node, neighbor) for neighbor, weight in graph[start_node]]\n",
    "    heapq.heapify(edge_heap)\n",
    "    \n",
    "    while edge_heap:\n",
    "        # Извлекаем ребро с минимальным весом\n",
    "        weight, node1, node2 = heapq.heappop(edge_heap)\n",
    "        \n",
    "        # Если вершина node2 еще не посещена, добавляем ребро в остовное дерево\n",
    "        if node2 not in visited:\n",
    "            visited.add(node2)\n",
    "            minimum_spanning_tree.append((node1, node2, weight))\n",
    "            \n",
    "            # Добавляем соседние ребра вершины node2 в приоритетную очередь\n",
    "            for neighbor, edge_weight in graph[node2]:\n",
    "                if neighbor not in visited:\n",
    "                    heapq.heappush(edge_heap, (edge_weight, node2, neighbor))\n",
    "    \n",
    "    total_weight = sum(weight for _, _, weight in minimum_spanning_tree)\n",
    "    \n",
    "    return minimum_spanning_tree, total_weight\n"
   ]
  },
  {
   "cell_type": "markdown",
   "id": "9de1686f-74e4-4bdd-8e8c-a34779bf07f7",
   "metadata": {},
   "source": [
    "<h1>\n",
    "    From 12 matrix\n",
    "<h1>"
   ]
  },
  {
   "cell_type": "code",
   "execution_count": 4,
   "id": "7f2d008e-3398-45c0-907d-99ada98c598a",
   "metadata": {},
   "outputs": [],
   "source": [
    "# # from Graph import *\n",
    "\n",
    "# matrix_file = \"task4/matrix_t4_001.txt\"\n",
    "\n",
    "# g = Graph(matrix_file, \"-m\")\n",
    "\n",
    "\n",
    "# if not g.is_directed():\n",
    "#     mst_edges, mst_weight = kruskal(g.get_adjacency_matrix())\n",
    "#     print(\"Остовное дерево:\", mst_edges)\n",
    "#     print(\"Суммарный вес дерева:\", mst_weight)\n",
    "# elif g.is_directed():\n",
    "#     # print(undirected_adjacency_matrix(g.get_adjacency_matrix()))\n",
    "#     mst_edges, mst_weight = kruskal(undirected_adjacency_matrix(g.get_adjacency_matrix()))\n",
    "#     print(\"Остовное дерево:\", mst_edges)\n",
    "#     print(\"Суммарный вес дерева:\", mst_weight)\n",
    "    \n",
    "\n",
    "# g.get_graph()\n",
    "\n",
    "\n",
    "# # print(g._Graph__adjacency_matrix)\n"
   ]
  },
  {
   "cell_type": "code",
   "execution_count": 11,
   "id": "9b2de12a-621f-415f-8096-5cb867bf06e1",
   "metadata": {},
   "outputs": [
    {
     "name": "stdout",
     "output_type": "stream",
     "text": [
      "12\n"
     ]
    },
    {
     "ename": "NameError",
     "evalue": "name 'minimum_spanning_tree' is not defined",
     "output_type": "error",
     "traceback": [
      "\u001b[1;31m---------------------------------------------------------------------------\u001b[0m",
      "\u001b[1;31mNameError\u001b[0m                                 Traceback (most recent call last)",
      "Cell \u001b[1;32mIn[11], line 18\u001b[0m\n\u001b[0;32m     16\u001b[0m     \u001b[38;5;66;03m# print(undirected_adjacency_matrix(g.get_adjacency_matrix()))\u001b[39;00m\n\u001b[0;32m     17\u001b[0m     mst_edges, mst_weight \u001b[38;5;241m=\u001b[39m prim(undirected_adjacency_matrix(g\u001b[38;5;241m.\u001b[39mget_adjacency_matrix()))\n\u001b[1;32m---> 18\u001b[0m     \u001b[38;5;28mprint\u001b[39m(\u001b[38;5;124m\"\u001b[39m\u001b[38;5;124mОстовное дерево:\u001b[39m\u001b[38;5;124m\"\u001b[39m, \u001b[43mminimum_spanning_tree\u001b[49m)\n\u001b[0;32m     19\u001b[0m     \u001b[38;5;28mprint\u001b[39m(\u001b[38;5;124m\"\u001b[39m\u001b[38;5;124mСуммарный вес дерева:\u001b[39m\u001b[38;5;124m\"\u001b[39m, total_weight)\n\u001b[0;32m     22\u001b[0m g\u001b[38;5;241m.\u001b[39mget_graph()\n",
      "\u001b[1;31mNameError\u001b[0m: name 'minimum_spanning_tree' is not defined"
     ]
    }
   ],
   "source": [
    "# from Graph import *\n",
    "\n",
    "matrix_file = \"task4/matrix_t4_005.txt\"\n",
    "\n",
    "# g = Graph(matrix_file, \"-m\")\n",
    "\n",
    "if not g.is_directed():\n",
    "    g = Graph(matrix_file, \"-m\")\n",
    "    print(12)\n",
    "    minimum_spanning_tree, total_weight = prim(g.get_adjacency_matrix())\n",
    "    print(\"Остовное дерево:\", minimum_spanning_tree)\n",
    "    print(\"Суммарный вес дерева:\", total_weight)\n",
    "elif g.is_directed():\n",
    "    print(12)\n",
    "    g = Graph(matrix_file, \"-m\")\n",
    "    # print(undirected_adjacency_matrix(g.get_adjacency_matrix()))\n",
    "    mst_edges, mst_weight = prim(undirected_adjacency_matrix(g.get_adjacency_matrix()))\n",
    "    print(\"Остовное дерево:\", minimum_spanning_tree)\n",
    "    print(\"Суммарный вес дерева:\", total_weight)\n",
    "    \n",
    "\n",
    "g.get_graph()\n"
   ]
  },
  {
   "cell_type": "markdown",
   "id": "423febaf-95d3-4490-afdf-4e8fa7a20cee",
   "metadata": {},
   "source": [
    "<h1>\n",
    "    From 13 list\n",
    "<h1>"
   ]
  },
  {
   "cell_type": "code",
   "execution_count": 6,
   "id": "f2833cfe-5049-4c99-a49b-1563d2f116d0",
   "metadata": {},
   "outputs": [
    {
     "ename": "FileNotFoundError",
     "evalue": "[Errno 2] No such file or directory: 'task4/list_of_adjacency_t4_005.txt'",
     "output_type": "error",
     "traceback": [
      "\u001b[1;31m---------------------------------------------------------------------------\u001b[0m",
      "\u001b[1;31mFileNotFoundError\u001b[0m                         Traceback (most recent call last)",
      "Cell \u001b[1;32mIn[6], line 3\u001b[0m\n\u001b[0;32m      1\u001b[0m list_file \u001b[38;5;241m=\u001b[39m \u001b[38;5;124m'\u001b[39m\u001b[38;5;124mtask4/list_of_adjacency_t4_005.txt\u001b[39m\u001b[38;5;124m'\u001b[39m\n\u001b[1;32m----> 3\u001b[0m g \u001b[38;5;241m=\u001b[39m \u001b[43mGraph\u001b[49m\u001b[43m(\u001b[49m\u001b[43mlist_file\u001b[49m\u001b[43m,\u001b[49m\u001b[43m \u001b[49m\u001b[38;5;124;43m'\u001b[39;49m\u001b[38;5;124;43m-l\u001b[39;49m\u001b[38;5;124;43m'\u001b[39;49m\u001b[43m)\u001b[49m\n\u001b[0;32m      5\u001b[0m g\u001b[38;5;241m.\u001b[39mget_graph()\n\u001b[0;32m      6\u001b[0m g\u001b[38;5;241m.\u001b[39mis_directed()\n",
      "File \u001b[1;32m~\\Desktop\\graph\\Graph.py:17\u001b[0m, in \u001b[0;36mGraph.__init__\u001b[1;34m(self, file_path, file_type)\u001b[0m\n\u001b[0;32m     15\u001b[0m     \u001b[38;5;28mself\u001b[39m\u001b[38;5;241m.\u001b[39m__check_directed()\n\u001b[0;32m     16\u001b[0m \u001b[38;5;28;01melif\u001b[39;00m file_type \u001b[38;5;241m==\u001b[39m \u001b[38;5;124m'\u001b[39m\u001b[38;5;124m-l\u001b[39m\u001b[38;5;124m'\u001b[39m:\n\u001b[1;32m---> 17\u001b[0m     \u001b[38;5;28;43mself\u001b[39;49m\u001b[38;5;241;43m.\u001b[39;49m\u001b[43m__load_adjacency_dict\u001b[49m\u001b[43m(\u001b[49m\u001b[43mfile_path\u001b[49m\u001b[43m)\u001b[49m\n\u001b[0;32m     18\u001b[0m     \u001b[38;5;28mself\u001b[39m\u001b[38;5;241m.\u001b[39m__adjacency_dict_to_matrix()\n\u001b[0;32m     19\u001b[0m     \u001b[38;5;28mself\u001b[39m\u001b[38;5;241m.\u001b[39m__check_directed()\n",
      "File \u001b[1;32m~\\Desktop\\graph\\Graph.py:47\u001b[0m, in \u001b[0;36mGraph.__load_adjacency_dict\u001b[1;34m(self, file_path)\u001b[0m\n\u001b[0;32m     45\u001b[0m \u001b[38;5;28;01mdef\u001b[39;00m \u001b[38;5;21m__load_adjacency_dict\u001b[39m(\u001b[38;5;28mself\u001b[39m, file_path):\n\u001b[0;32m     46\u001b[0m     adjacency_dict \u001b[38;5;241m=\u001b[39m {}\n\u001b[1;32m---> 47\u001b[0m     \u001b[38;5;28;01mwith\u001b[39;00m \u001b[38;5;28;43mopen\u001b[39;49m\u001b[43m(\u001b[49m\u001b[43mfile_path\u001b[49m\u001b[43m,\u001b[49m\u001b[43m \u001b[49m\u001b[38;5;124;43m'\u001b[39;49m\u001b[38;5;124;43mr\u001b[39;49m\u001b[38;5;124;43m'\u001b[39;49m\u001b[43m)\u001b[49m \u001b[38;5;28;01mas\u001b[39;00m file:\n\u001b[0;32m     48\u001b[0m         count \u001b[38;5;241m=\u001b[39m \u001b[38;5;241m0\u001b[39m\n\u001b[0;32m     49\u001b[0m         \u001b[38;5;28;01mfor\u001b[39;00m line \u001b[38;5;129;01min\u001b[39;00m file:\n",
      "\u001b[1;31mFileNotFoundError\u001b[0m: [Errno 2] No such file or directory: 'task4/list_of_adjacency_t4_005.txt'"
     ]
    }
   ],
   "source": [
    "list_file = 'task4/list_of_adjacency_t4_005.txt'\n",
    "\n",
    "g = Graph(list_file, '-l')\n",
    "\n",
    "g.get_graph()\n",
    "g.is_directed()\n",
    "# g.get_vertex_degrees()\n",
    "# g.floyd_warshall()\n",
    "# g = Graph(matrix_file, \"-m\")\n",
    "# g.get_graph()"
   ]
  },
  {
   "cell_type": "markdown",
   "id": "526823ca-504c-44dc-bb8a-bf12d3dfef94",
   "metadata": {},
   "source": [
    "<h1>\n",
    "    From 1 edge\n",
    "<h1>"
   ]
  },
  {
   "cell_type": "code",
   "execution_count": null,
   "id": "29fac074-6bc0-45ff-95a2-1d3df838d80e",
   "metadata": {},
   "outputs": [],
   "source": [
    "edge_file = 'task4/list_of_edges_t4_010.txt'\n",
    "g = Graph(edge_file, '-e')\n",
    "\n",
    "g.get_graph()\n",
    "g.is_directed()\n",
    "# g.get_vertex_degrees()\n",
    "# g.floyd_warshall()"
   ]
  }
 ],
 "metadata": {
  "kernelspec": {
   "display_name": "Python 3 (ipykernel)",
   "language": "python",
   "name": "python3"
  },
  "language_info": {
   "codemirror_mode": {
    "name": "ipython",
    "version": 3
   },
   "file_extension": ".py",
   "mimetype": "text/x-python",
   "name": "python",
   "nbconvert_exporter": "python",
   "pygments_lexer": "ipython3",
   "version": "3.8.7"
  }
 },
 "nbformat": 4,
 "nbformat_minor": 5
}
